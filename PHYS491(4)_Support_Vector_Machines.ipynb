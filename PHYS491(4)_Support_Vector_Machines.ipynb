{
  "nbformat": 4,
  "nbformat_minor": 0,
  "metadata": {
    "colab": {
      "name": "PHYS491(4)_Support_Vector_Machines.ipynb",
      "provenance": [],
      "collapsed_sections": []
    },
    "kernelspec": {
      "name": "python3",
      "display_name": "Python 3"
    },
    "language_info": {
      "name": "python"
    }
  },
  "cells": [
    {
      "cell_type": "markdown",
      "source": [
        "# Introduction "
      ],
      "metadata": {
        "id": "FisoWnZ8w_yr"
      }
    },
    {
      "cell_type": "markdown",
      "source": [
        "- A **Support Vector Machine (SVM)** is a very powerful and versatile Machine Learning\n",
        "model, capable of performing linear or nonlinear classification, regression, and even\n",
        "outlier detection. \n",
        "\n",
        "-  SVMs are particularly well suited for classification of complex but small- or medium-sized datasets."
      ],
      "metadata": {
        "id": "4qzXYmspxCnQ"
      }
    },
    {
      "cell_type": "markdown",
      "source": [
        "# Linear SVM Classification "
      ],
      "metadata": {
        "id": "xqKawdpMxCwy"
      }
    },
    {
      "cell_type": "markdown",
      "source": [
        "## IRIS Dataset"
      ],
      "metadata": {
        "id": "gb-q0LAnxC54"
      }
    },
    {
      "cell_type": "code",
      "source": [
        "import sklearn\n",
        "import numpy as np\n",
        "import matplotlib.pyplot as plt"
      ],
      "metadata": {
        "id": "Ra-F0egwEKDA"
      },
      "execution_count": 2,
      "outputs": []
    },
    {
      "cell_type": "code",
      "source": [
        "from sklearn.svm import SVC\n",
        "from sklearn import datasets\n",
        "\n",
        "iris = datasets.load_iris()\n",
        "X = iris[\"data\"][:, (2, 3)]  # petal length, petal width\n",
        "y = iris[\"target\"]\n",
        "\n",
        "setosa_or_versicolor = (y == 0) | (y == 1)\n",
        "X = X[setosa_or_versicolor]\n",
        "y = y[setosa_or_versicolor]\n",
        "\n",
        "# SVM Classifier model\n",
        "svm_clf = SVC(kernel=\"linear\", C=float(\"inf\"))\n",
        "svm_clf.fit(X, y)"
      ],
      "metadata": {
        "colab": {
          "base_uri": "https://localhost:8080/"
        },
        "id": "jl4NxvIAERJu",
        "outputId": "96631627-3df3-4cb1-bff8-2ef7363d6fbf"
      },
      "execution_count": 34,
      "outputs": [
        {
          "output_type": "execute_result",
          "data": {
            "text/plain": [
              "SVC(C=inf, kernel='linear')"
            ]
          },
          "metadata": {},
          "execution_count": 34
        }
      ]
    },
    {
      "cell_type": "code",
      "execution_count": 35,
      "metadata": {
        "colab": {
          "base_uri": "https://localhost:8080/",
          "height": 213
        },
        "id": "N7W29dc7uUY6",
        "outputId": "ec67d7d6-85df-44a7-99ff-274d4668ef0e"
      },
      "outputs": [
        {
          "output_type": "display_data",
          "data": {
            "image/png": "[encoded data removed]",
            "text/plain": [
              "<Figure size 720x194.4 with 2 Axes>"
            ]
          },
          "metadata": {
            "needs_background": "light"
          }
        }
      ],
      "source": [
        "# Bad models\n",
        "x0 = np.linspace(0, 5.5, 200)\n",
        "pred_1 = 5*x0 - 20\n",
        "pred_2 = x0 - 1.8\n",
        "pred_3 = 0.1 * x0 + 0.5\n",
        "\n",
        "def plot_svc_decision_boundary(svm_clf, xmin, xmax):\n",
        "    w = svm_clf.coef_[0]\n",
        "    b = svm_clf.intercept_[0]\n",
        "\n",
        "    # At the decision boundary, w0*x0 + w1*x1 + b = 0\n",
        "    # => x1 = -w0/w1 * x0 - b/w1\n",
        "    x0 = np.linspace(xmin, xmax, 200)\n",
        "    decision_boundary = -w[0]/w[1] * x0 - b/w[1]\n",
        "\n",
        "    margin = 1/w[1]\n",
        "    gutter_up = decision_boundary + margin\n",
        "    gutter_down = decision_boundary - margin\n",
        "\n",
        "    svs = svm_clf.support_vectors_\n",
        "    plt.scatter(svs[:, 0], svs[:, 1], s=180, facecolors='#FFAAAA')\n",
        "    plt.plot(x0, decision_boundary, \"k-\", linewidth=2)\n",
        "    plt.plot(x0, gutter_up, \"k--\", linewidth=2)\n",
        "    plt.plot(x0, gutter_down, \"k--\", linewidth=2)\n",
        "\n",
        "fig, axes = plt.subplots(ncols=2, figsize=(10,2.7), sharey=True)\n",
        "\n",
        "plt.sca(axes[0])\n",
        "plt.plot(x0, pred_1, color=\"tab:gray\", linestyle=\"dashed\", linewidth=2, label=\"Prediction 1\")\n",
        "plt.plot(x0, pred_2, color=\"tab:gray\", linestyle=\"dotted\", linewidth=2, label=\"Prediction 2\")\n",
        "plt.plot(x0, pred_3, color=\"tab:gray\", linestyle=\"solid\", linewidth=2, label=\"Prediction 3\")\n",
        "plt.scatter(X[:, 0][y==1], X[:, 1][y==1], color = \"blue\", marker=\"s\", label=\"Iris versicolor\")\n",
        "plt.scatter(X[:, 0][y==0], X[:, 1][y==0], color = \"tab:olive\", marker=\"o\", label=\"Iris setosa\")\n",
        "plt.xlabel(\"Petal length\")\n",
        "plt.ylabel(\"Petal width\")\n",
        "plt.legend(loc=\"upper left\")\n",
        "plt.axis([0, 5.5, 0, 2])\n",
        "\n",
        "plt.sca(axes[1])\n",
        "plot_svc_decision_boundary(svm_clf, 0, 5.5)\n",
        "plt.scatter(X[:, 0][y==1], X[:, 1][y==1], color = \"blue\", marker=\"s\")\n",
        "plt.scatter(X[:, 0][y==0], X[:, 1][y==0], color = \"tab:olive\", marker=\"o\")\n",
        "plt.xlabel(\"Petal length\")\n",
        "plt.axis([0, 5.5, 0, 2])\n",
        "\n",
        "plt.show()"
      ]
    },
    {
      "cell_type": "markdown",
      "source": [
        "- \"The fundamental idea behind SVMs is best explained with some visualizations.\"\n",
        "- The plots above shows part of the iris dataset.\n",
        "- The two classes can clearly be separated easily with a straight line (they are linearly separable).\n",
        "\n",
        "<u>Detailed Comments:</u>\n",
        "- <u>Left Plot:</u>\n",
        " - The left plot shows the decision boundaries of three possible linear classifiers. \n",
        " - The model whose decision boundary is represented by the dashed line is so bad that it\n",
        "does not even separate the classes properly. \n",
        " - The other two models work perfectly on\n",
        "this training set, but their decision boundaries come so close to the instances that these models will probably not perform as well on new instances. \n",
        "\n",
        "- <u>Right Plot:</u>\n",
        " - In contrast, the solid line in the plot on the right represents the decision boundary of an SVM classifier; this line not only separates the two classes but also stays as far away from the\n",
        "closest training instances as possible. \n"
      ],
      "metadata": {
        "id": "iHZrgML6GYEf"
      }
    },
    {
      "cell_type": "markdown",
      "source": [
        "- An SVM classifier can be thought of as a model fitting the widest possible street (represented by the parallel dashed lines) between the classes.\n",
        "This is called **large margin classification**.\n",
        "\n",
        "- Note: Adding more training instances “off the street” will not affect the decision\n",
        "boundary at all: it is fully determined (or “supported”) by the instances located on the\n",
        "edge of the street. These instances are called the **support vectors**."
      ],
      "metadata": {
        "id": "BxtCtHTwHTQF"
      }
    },
    {
      "cell_type": "markdown",
      "source": [
        "## Soft Margin Classification "
      ],
      "metadata": {
        "id": "7Ikjax2WKdgp"
      }
    },
    {
      "cell_type": "markdown",
      "source": [
        "- If we strictly impose that all instances be off the street and on the right side, this is\n",
        "called **hard margin classification**. \n",
        "- There are two main issues with hard margin classification:\n",
        " 1. It only works if the data is linearly separable.\n",
        " 2. It is quite sensitive to outliers. \n",
        " \n",
        "We now plot the iris dataset just as above, but with one additional outlier:"
      ],
      "metadata": {
        "id": "GzmdM1EeKgaj"
      }
    },
    {
      "cell_type": "code",
      "source": [
        "# Hard Margin Sensitivity to Outliers:\n",
        "\n",
        "X_outliers = np.array([[3.4, 1.3], [3.2, 0.8]])\n",
        "y_outliers = np.array([0, 0])\n",
        "Xo1 = np.concatenate([X, X_outliers[:1]], axis=0)\n",
        "yo1 = np.concatenate([y, y_outliers[:1]], axis=0)\n",
        "Xo2 = np.concatenate([X, X_outliers[1:]], axis=0)\n",
        "yo2 = np.concatenate([y, y_outliers[1:]], axis=0)\n",
        "\n",
        "svm_clf2 = SVC(kernel=\"linear\", C=10**9)\n",
        "svm_clf2.fit(Xo2, yo2)\n",
        "\n",
        "fig, axes = plt.subplots(ncols=2, figsize=(10,2.7), sharey=True)\n",
        "\n",
        "plt.sca(axes[0])\n",
        "plt.plot(Xo1[:, 0][yo1==1], Xo1[:, 1][yo1==1], \"bs\")\n",
        "plt.plot(Xo1[:, 0][yo1==0], Xo1[:, 1][yo1==0], \"yo\")\n",
        "\n",
        "plt.xlabel(\"Petal length\", fontsize=14)\n",
        "plt.ylabel(\"Petal width\", fontsize=14)\n",
        "\n",
        "plt.axis([0, 5.5, 0, 2])\n",
        "\n",
        "plt.sca(axes[1])\n",
        "plt.plot(Xo2[:, 0][yo2==1], Xo2[:, 1][yo2==1], \"bs\")\n",
        "plt.plot(Xo2[:, 0][yo2==0], Xo2[:, 1][yo2==0], \"yo\")\n",
        "plot_svc_decision_boundary(svm_clf2, 0, 5.5)\n",
        "plt.xlabel(\"Petal length\", fontsize=14)\n",
        "\n",
        "plt.axis([0, 5.5, 0, 2])\n",
        "plt.show()"
      ],
      "metadata": {
        "colab": {
          "base_uri": "https://localhost:8080/",
          "height": 217
        },
        "id": "zH821uO6EC8g",
        "outputId": "17092135-3fe3-41bb-e010-b1872424d78c"
      },
      "execution_count": 5,
      "outputs": [
        {
          "output_type": "display_data",
          "data": {
            "image/png": "[encoded data removed]",
            "text/plain": [
              "<Figure size 720x194.4 with 2 Axes>"
            ]
          },
          "metadata": {
            "needs_background": "light"
          }
        }
      ]
    },
    {
      "cell_type": "markdown",
      "source": [
        "- On the left, it is impossible to find a hard margin, and on the right the decision boundary\n",
        "ends up very different from the one we saw in the earlier plot without the outlier, and it\n",
        "will probably not generalize as well.\n",
        "\n",
        "- To avoid these issues, it is preferable to use a more flexible model. \n",
        "\n",
        "- The objective is to\n",
        "find a good balance between keeping the street as large as possible and limiting the\n",
        "margin violations (i.e., instances that end up in the middle of the street or even on the\n",
        "wrong side). This is called **soft margin classification**."
      ],
      "metadata": {
        "id": "3vK-WK2sLv9_"
      }
    },
    {
      "cell_type": "markdown",
      "source": [
        "In Scikit-Learn’s SVM classes, we can control this balance using the \"C\" hyperparameter: a smaller C value leads to a wider street but more margin violations:"
      ],
      "metadata": {
        "id": "OkrxekR0LwGB"
      }
    },
    {
      "cell_type": "code",
      "source": [
        "import numpy as np\n",
        "from sklearn import datasets\n",
        "from sklearn.pipeline import Pipeline\n",
        "from sklearn.preprocessing import StandardScaler\n",
        "from sklearn.svm import LinearSVC\n",
        "\n",
        "iris = datasets.load_iris()\n",
        "X = iris[\"data\"][:, (2, 3)]  # petal length, petal width\n",
        "y = (iris[\"target\"] == 2).astype(np.float64)  # Iris virginica\n",
        "\n",
        "svm_clf = Pipeline([\n",
        "        (\"scaler\", StandardScaler()),\n",
        "        (\"linear_svc\", LinearSVC(C=1, loss=\"hinge\", random_state=42)),\n",
        "    ])\n",
        "\n",
        "svm_clf.fit(X, y)"
      ],
      "metadata": {
        "colab": {
          "base_uri": "https://localhost:8080/"
        },
        "id": "evXOP7FHUhf-",
        "outputId": "ec25d40a-c594-4750-8674-8ebb791437d1"
      },
      "execution_count": 44,
      "outputs": [
        {
          "output_type": "execute_result",
          "data": {
            "text/plain": [
              "Pipeline(steps=[('scaler', StandardScaler()),\n",
              "                ('linear_svc', LinearSVC(C=1, loss='hinge', random_state=42))])"
            ]
          },
          "metadata": {},
          "execution_count": 44
        }
      ]
    },
    {
      "cell_type": "code",
      "source": [
        "scaler = StandardScaler()\n",
        "svm_clf1 = LinearSVC(C=1, loss=\"hinge\", random_state=42)\n",
        "svm_clf2 = LinearSVC(C=100, loss=\"hinge\", random_state=42)\n",
        "\n",
        "scaled_svm_clf1 = Pipeline([\n",
        "        (\"scaler\", scaler),\n",
        "        (\"linear_svc\", svm_clf1),\n",
        "    ])\n",
        "scaled_svm_clf2 = Pipeline([\n",
        "        (\"scaler\", scaler),\n",
        "        (\"linear_svc\", svm_clf2),\n",
        "    ])\n",
        "\n",
        "scaled_svm_clf1.fit(X, y)\n",
        "scaled_svm_clf2.fit(X, y)"
      ],
      "metadata": {
        "colab": {
          "base_uri": "https://localhost:8080/"
        },
        "id": "rKjlxhcMWu9U",
        "outputId": "f025adea-1a86-4913-f80d-524827f5e4d5"
      },
      "execution_count": 45,
      "outputs": [
        {
          "output_type": "stream",
          "name": "stderr",
          "text": [
            "/usr/local/lib/python3.7/dist-packages/sklearn/svm/_base.py:1208: ConvergenceWarning: Liblinear failed to converge, increase the number of iterations.\n",
            "  ConvergenceWarning,\n"
          ]
        },
        {
          "output_type": "execute_result",
          "data": {
            "text/plain": [
              "Pipeline(steps=[('scaler', StandardScaler()),\n",
              "                ('linear_svc',\n",
              "                 LinearSVC(C=100, loss='hinge', random_state=42))])"
            ]
          },
          "metadata": {},
          "execution_count": 45
        }
      ]
    },
    {
      "cell_type": "code",
      "source": [
        "# Convert to unscaled parameters\n",
        "b1 = svm_clf1.decision_function([-scaler.mean_ / scaler.scale_])\n",
        "b2 = svm_clf2.decision_function([-scaler.mean_ / scaler.scale_])\n",
        "w1 = svm_clf1.coef_[0] / scaler.scale_\n",
        "w2 = svm_clf2.coef_[0] / scaler.scale_\n",
        "svm_clf1.intercept_ = np.array([b1])\n",
        "svm_clf2.intercept_ = np.array([b2])\n",
        "svm_clf1.coef_ = np.array([w1])\n",
        "svm_clf2.coef_ = np.array([w2])\n",
        "\n",
        "# Find support vectors (LinearSVC does not do this automatically)\n",
        "t = y * 2 - 1\n",
        "support_vectors_idx1 = (t * (X.dot(w1) + b1) < 1).ravel()\n",
        "support_vectors_idx2 = (t * (X.dot(w2) + b2) < 1).ravel()\n",
        "svm_clf1.support_vectors_ = X[support_vectors_idx1]\n",
        "svm_clf2.support_vectors_ = X[support_vectors_idx2]"
      ],
      "metadata": {
        "id": "nh8tGPfJVzcB"
      },
      "execution_count": 46,
      "outputs": []
    },
    {
      "cell_type": "code",
      "source": [
        "# Plotting Large vs Small Margin Using SkLearn:\n",
        "fig, axes = plt.subplots(ncols=2, figsize=(10,2.7), sharey=True)\n",
        "\n",
        "plt.sca(axes[0])\n",
        "plt.plot(X[:, 0][y==1], X[:, 1][y==1], \"^\", color=\"maroon\", label=\"Iris virginica\")\n",
        "plt.plot(X[:, 0][y==0], X[:, 1][y==0], \"bs\", label=\"Iris versicolor\")\n",
        "plot_svc_decision_boundary(svm_clf1, 4, 5.9)\n",
        "plt.xlabel(\"Petal length\")\n",
        "plt.ylabel(\"Petal width\")\n",
        "plt.legend(loc=\"upper left\")\n",
        "plt.title(\"$C = {}$\".format(svm_clf1.C))\n",
        "plt.axis([4, 5.9, 0.8, 2.8])\n",
        "\n",
        "plt.sca(axes[1])\n",
        "plt.plot(X[:, 0][y==1], X[:, 1][y==1], \"^\", color=\"maroon\")\n",
        "plt.plot(X[:, 0][y==0], X[:, 1][y==0], \"bs\")\n",
        "plot_svc_decision_boundary(svm_clf2, 4, 5.99)\n",
        "plt.xlabel(\"Petal length\")\n",
        "plt.title(\"$C = {}$\".format(svm_clf2.C))\n",
        "plt.axis([4, 5.9, 0.8, 2.8])\n",
        "plt.show()"
      ],
      "metadata": {
        "colab": {
          "base_uri": "https://localhost:8080/",
          "height": 225
        },
        "id": "FuZJMS95V15O",
        "outputId": "3414fac1-97ae-41a7-982c-3329d1c9a4e3"
      },
      "execution_count": 55,
      "outputs": [
        {
          "output_type": "display_data",
          "data": {
            "image/png": "[encoded data removed]",
            "text/plain": [
              "<Figure size 720x194.4 with 2 Axes>"
            ]
          },
          "metadata": {
            "needs_background": "light"
          }
        }
      ]
    },
    {
      "cell_type": "markdown",
      "source": [
        "- The plots show the decision boundaries and margins of two soft margin SVM classifiers on a\n",
        "nonlinearly separable dataset. \n",
        " - On the left, using a low C value the margin is quite\n",
        "large, but many instances end up on the street. \n",
        " - On the right, using a high C value the\n",
        "classifier makes fewer margin violations but ends up with a smaller margin. \n",
        "- However, it seems likely that the first classifier will generalize better: in fact even on this training set it makes fewer prediction errors, since most of the margin violations are actually on the correct side of the decision boundary."
      ],
      "metadata": {
        "id": "D16vX5SVUjLT"
      }
    },
    {
      "cell_type": "markdown",
      "source": [
        "# Nonlinear SVM Classification"
      ],
      "metadata": {
        "id": "kBYAshiCXWZB"
      }
    },
    {
      "cell_type": "markdown",
      "source": [
        "- Although linear SVM classifiers are efficient and work surprisingly well in many\n",
        "cases, many datasets are not even close to being linearly separable. \n",
        "- One approach to handling nonlinear datasets is to add more features, such as polynomial features; in some cases this can result in a linearly separable dataset:"
      ],
      "metadata": {
        "id": "RorCQRZDXZmZ"
      }
    },
    {
      "cell_type": "code",
      "source": [
        "X1D = np.linspace(-4, 4, 9).reshape(-1, 1)\n",
        "X2D = np.c_[X1D, X1D**2]\n",
        "y = np.array([0, 0, 1, 1, 1, 1, 1, 0, 0])\n",
        "\n",
        "plt.figure(figsize=(10, 3))\n",
        "\n",
        "plt.subplot(121)\n",
        "plt.grid(True, which='both')\n",
        "plt.axhline(y=0, color='k')\n",
        "plt.plot(X1D[:, 0][y==0], np.zeros(4), \"bs\")\n",
        "plt.plot(X1D[:, 0][y==1], np.zeros(5), \"^\", color=\"maroon\")\n",
        "plt.gca().get_yaxis().set_ticks([])\n",
        "plt.xlabel(r\"$x_1$\")\n",
        "plt.axis([-4.5, 4.5, -0.2, 0.2])\n",
        "\n",
        "plt.subplot(122)\n",
        "plt.grid(True, which='both')\n",
        "plt.axhline(y=0, color='k')\n",
        "plt.axvline(x=0, color='k')\n",
        "plt.plot(X2D[:, 0][y==0], X2D[:, 1][y==0], \"bs\")\n",
        "plt.plot(X2D[:, 0][y==1], X2D[:, 1][y==1], \"^\", color=\"maroon\")\n",
        "plt.xlabel(r\"$x_1$\")\n",
        "plt.ylabel(r\"$x_2$  \", rotation=0)\n",
        "plt.gca().get_yaxis().set_ticks([0, 4, 8, 12, 16])\n",
        "plt.plot([-4.5, 4.5], [6.5, 6.5], color=\"silver\")\n",
        "plt.axis([-4.5, 4.5, -1, 17])\n",
        "\n",
        "plt.subplots_adjust(right=1)\n",
        "plt.show()"
      ],
      "metadata": {
        "colab": {
          "base_uri": "https://localhost:8080/",
          "height": 227
        },
        "id": "hZpnpfd3U0Ki",
        "outputId": "8df2c5ee-688f-4399-c516-3feaabb9d747"
      },
      "execution_count": 60,
      "outputs": [
        {
          "output_type": "display_data",
          "data": {
            "image/png": "[encoded data removed]",
            "text/plain": [
              "<Figure size 720x216 with 2 Axes>"
            ]
          },
          "metadata": {
            "needs_background": "light"
          }
        }
      ]
    },
    {
      "cell_type": "markdown",
      "source": [
        "- Consider the left plot above: it represents a simple dataset with just one feature $x_1$.\n",
        "- This dataset is not linearly separable, as you can see. But if you add a second feature $x_2 = (x_1)^2$, the resulting 2D dataset is perfectly linearly separable."
      ],
      "metadata": {
        "id": "1Ge4EQHBktyJ"
      }
    },
    {
      "cell_type": "markdown",
      "source": [
        "- To implement this idea using Scikit-Learn, we can create a `Pipeline` containing a `PolynomialFeatures` transformer, followed by a `StandardScaler` and a `LinearSVC`. \n",
        "- We can test this on the **moons\n",
        "dataset**: this is a toy dataset for binary classification in which the data points are shaped as two interleaving half circles.\n",
        " - We generate such a dataset here:"
      ],
      "metadata": {
        "id": "sfjFWcgblcQm"
      }
    },
    {
      "cell_type": "code",
      "source": [
        "from sklearn.datasets import make_moons\n",
        "X, y = make_moons(n_samples=100, noise=0.15, random_state=42)\n",
        "\n",
        "def plot_dataset(X, y, axes):\n",
        "    plt.plot(X[:, 0][y==0], X[:, 1][y==0], \"bs\")\n",
        "    plt.plot(X[:, 0][y==1], X[:, 1][y==1], \"^\", color=\"maroon\")\n",
        "    plt.axis(axes)\n",
        "    plt.grid(True, which='both')\n",
        "    plt.xlabel(r\"$x_1$\", fontsize=15)\n",
        "    plt.ylabel(r\"$x_2$\", fontsize=15, rotation=0)\n",
        "\n",
        "plot_dataset(X, y, [-1.5, 2.5, -1, 1.5])\n",
        "plt.show()"
      ],
      "metadata": {
        "colab": {
          "base_uri": "https://localhost:8080/",
          "height": 289
        },
        "id": "ajqDpnZQlA62",
        "outputId": "118bc7d6-cece-4b38-fc34-b33057e59da2"
      },
      "execution_count": 61,
      "outputs": [
        {
          "output_type": "display_data",
          "data": {
            "image/png": "[encoded data removed]",
            "text/plain": [
              "<Figure size 432x288 with 1 Axes>"
            ]
          },
          "metadata": {
            "needs_background": "light"
          }
        }
      ]
    },
    {
      "cell_type": "code",
      "source": [
        "from sklearn.datasets import make_moons\n",
        "from sklearn.pipeline import Pipeline\n",
        "from sklearn.preprocessing import PolynomialFeatures\n",
        "\n",
        "polynomial_svm_clf = Pipeline([\n",
        "        (\"poly_features\", PolynomialFeatures(degree=3)),\n",
        "        (\"scaler\", StandardScaler()),\n",
        "        (\"svm_clf\", LinearSVC(C=10, loss=\"hinge\", random_state=42))\n",
        "    ])\n",
        "\n",
        "polynomial_svm_clf.fit(X, y)"
      ],
      "metadata": {
        "colab": {
          "base_uri": "https://localhost:8080/"
        },
        "id": "Bwi6f1DUl8ZU",
        "outputId": "92632b3c-837f-4acf-fa13-4e00d6c44d7e"
      },
      "execution_count": 62,
      "outputs": [
        {
          "output_type": "stream",
          "name": "stderr",
          "text": [
            "/usr/local/lib/python3.7/dist-packages/sklearn/svm/_base.py:1208: ConvergenceWarning: Liblinear failed to converge, increase the number of iterations.\n",
            "  ConvergenceWarning,\n"
          ]
        },
        {
          "output_type": "execute_result",
          "data": {
            "text/plain": [
              "Pipeline(steps=[('poly_features', PolynomialFeatures(degree=3)),\n",
              "                ('scaler', StandardScaler()),\n",
              "                ('svm_clf', LinearSVC(C=10, loss='hinge', random_state=42))])"
            ]
          },
          "metadata": {},
          "execution_count": 62
        }
      ]
    },
    {
      "cell_type": "code",
      "source": [
        "def plot_predictions(clf, axes):\n",
        "    x0s = np.linspace(axes[0], axes[1], 100)\n",
        "    x1s = np.linspace(axes[2], axes[3], 100)\n",
        "    x0, x1 = np.meshgrid(x0s, x1s)\n",
        "    X = np.c_[x0.ravel(), x1.ravel()]\n",
        "    y_pred = clf.predict(X).reshape(x0.shape)\n",
        "    y_decision = clf.decision_function(X).reshape(x0.shape)\n",
        "    plt.contourf(x0, x1, y_pred, cmap=plt.cm.brg, alpha=0.2)\n",
        "    plt.contourf(x0, x1, y_decision, cmap=plt.cm.brg, alpha=0.1)\n",
        "\n",
        "plot_predictions(polynomial_svm_clf, [-1.5, 2.5, -1, 1.5])\n",
        "plot_dataset(X, y, [-1.5, 2.5, -1, 1.5])\n",
        "\n",
        "plt.show()"
      ],
      "metadata": {
        "colab": {
          "base_uri": "https://localhost:8080/",
          "height": 289
        },
        "id": "cRa6NnIvmJe2",
        "outputId": "6af8c630-5f1f-46de-a222-b82f980e7b08"
      },
      "execution_count": 74,
      "outputs": [
        {
          "output_type": "display_data",
          "data": {
            "image/png": "[encoded data removed]",
            "text/plain": [
              "<Figure size 432x288 with 1 Axes>"
            ]
          },
          "metadata": {
            "needs_background": "light"
          }
        }
      ]
    },
    {
      "cell_type": "markdown",
      "source": [
        "## Polynomial Kernel"
      ],
      "metadata": {
        "id": "jtQVMeoUmp3Q"
      }
    },
    {
      "cell_type": "markdown",
      "source": [
        "- Adding polynomial features is simple to implement and can work great with all sorts of Machine Learning algorithms (not just SVMs), but at a low polynomial degree it cannot deal with very complex datasets, and with a high polynomial degree it creates\n",
        "a huge number of features, making the model too slow.\n",
        "\n",
        "- Fortunately, when using SVMs, we can apply an almost miraculous mathematical technique called the **kernel** trick. \n",
        " - It makes it possible to get the same result as if we added many polynomial features, even with very high-degree polynomials, without actually having to add them. So there is no combinatorial explosion of the number of features since we don’t actually add any features. \n",
        "- This trick is implemented by the SVC class. Let’s test it on the moons dataset:\n"
      ],
      "metadata": {
        "id": "NxGgwVjimvCV"
      }
    },
    {
      "cell_type": "code",
      "source": [
        "from sklearn.svm import SVC\n",
        "\n",
        "poly_kernel_svm_clf = Pipeline([\n",
        "        (\"scaler\", StandardScaler()),\n",
        "        (\"svm_clf\", SVC(kernel=\"poly\", degree=3, coef0=1, C=5))\n",
        "    ])\n",
        "poly_kernel_svm_clf.fit(X, y)"
      ],
      "metadata": {
        "id": "-vVTufZAmrjR"
      },
      "execution_count": null,
      "outputs": []
    },
    {
      "cell_type": "code",
      "source": [
        "# SVM classifiers with a polynomial kernel:\n",
        "poly100_kernel_svm_clf = Pipeline([\n",
        "        (\"scaler\", StandardScaler()),\n",
        "        (\"svm_clf\", SVC(kernel=\"poly\", degree=10, coef0=100, C=5))\n",
        "    ])\n",
        "poly100_kernel_svm_clf.fit(X, y)"
      ],
      "metadata": {
        "id": "L3mTNdyknv1A"
      },
      "execution_count": null,
      "outputs": []
    },
    {
      "cell_type": "code",
      "source": [
        "fig, axes = plt.subplots(ncols=2, figsize=(10.5, 4), sharey=True)\n",
        "\n",
        "plt.sca(axes[0])\n",
        "plot_predictions(poly_kernel_svm_clf, [-1.5, 2.45, -1, 1.5])\n",
        "plot_dataset(X, y, [-1.5, 2.4, -1, 1.5])\n",
        "plt.title(r\"$d=3, r=1, C=5$\")\n",
        "\n",
        "plt.sca(axes[1])\n",
        "plot_predictions(poly100_kernel_svm_clf, [-1.5, 2.45, -1, 1.5])\n",
        "plot_dataset(X, y, [-1.5, 2.4, -1, 1.5])\n",
        "plt.title(r\"$d=10, r=100, C=5$\")\n",
        "plt.ylabel(\"\")\n",
        "\n",
        "plt.show()"
      ],
      "metadata": {
        "id": "ictqbrG9n1c4"
      },
      "execution_count": null,
      "outputs": []
    },
    {
      "cell_type": "markdown",
      "source": [
        "- On the left is an SVM classifier that's using a 3rd-degree polynomial kernel.  \n",
        "- On the right is another SVM classifier using a 10th degree polynomial kernel. \n",
        "- <u>More Comments:</u>\n",
        " - Obviously, if your model is overfitting, we might want to reduce the polynomial degree. \n",
        " - Conversely, if it is underfitting, we can try increasing it. \n",
        " - The hyperparameter `coef0` controls how much the model is influenced by high-degree polynomials versus low-degree polynomials."
      ],
      "metadata": {
        "id": "Or7w3nK2nIeV"
      }
    },
    {
      "cell_type": "markdown",
      "source": [
        "## Adding Similarity Features"
      ],
      "metadata": {
        "id": "zq-YJdrzoIUT"
      }
    },
    {
      "cell_type": "markdown",
      "source": [
        "- Another technique to tackle nonlinear problems is to add features computed using a **similarity function** that measures how much each instance resembles a particular\n",
        "landmark. \n",
        "- For example, let’s take the one-dimensional dataset discussed earlier and add two landmarks to it at $x_1 = –2$ and $x_1 = 1$\n",
        "\n",
        "- Next, let’s define the similarity function to be the **Gaussian Radial Basis Function (RBF)** with $γ = 0.3$\n",
        "\n",
        "$$\n",
        "\\phi_{\\gamma}(\\mathbf{x}, \\ell)=\\exp \\left(-\\gamma\\|\\mathbf{x}-\\ell\\|^{2}\\right)\n",
        "$$\n",
        "\n",
        "- It is a bell-shaped function varying from 0 (very far away from the landmark) to 1 (at\n",
        "the landmark). \n",
        "\n",
        "- Now we are ready to compute the new features. For example, let’s look\n",
        "at the instance $x_1 = –1$: it is located at a distance of 1 from the first landmark, and 2\n",
        "from the second landmark. Therefore its new features are $x_2 = \\exp(–0.3 × 12) ≈ 0.74$ \n",
        "and $x_3 = exp (–0.3 × 22) ≈ 0.30$. \n",
        "\n",
        "- The plot on the right shows the transformed dataset (dropping the original features). As can be seen, it is now linearly separable.\n"
      ],
      "metadata": {
        "id": "bC92xDfopTWH"
      }
    },
    {
      "cell_type": "code",
      "source": [
        "def gaussian_rbf(x, landmark, gamma):\n",
        "    return np.exp(-gamma * np.linalg.norm(x - landmark, axis=1)**2)\n",
        "\n",
        "gamma = 0.3\n",
        "\n",
        "x1s = np.linspace(-4.5, 4.5, 200).reshape(-1, 1)\n",
        "x2s = gaussian_rbf(x1s, -2, gamma)\n",
        "x3s = gaussian_rbf(x1s, 1, gamma)\n",
        "\n",
        "XK = np.c_[gaussian_rbf(X1D, -2, gamma), gaussian_rbf(X1D, 1, gamma)]\n",
        "yk = np.array([0, 0, 1, 1, 1, 1, 1, 0, 0])\n",
        "\n",
        "plt.figure(figsize=(10.5, 4))\n",
        "\n",
        "plt.subplot(121)\n",
        "plt.grid(True, which='both')\n",
        "plt.axhline(y=0, color='k')\n",
        "plt.scatter(x=[-2, 1], y=[0, 0], s=150, alpha=0.5, c=\"red\")\n",
        "plt.plot(X1D[:, 0][yk==0], np.zeros(4), \"bs\")\n",
        "plt.plot(X1D[:, 0][yk==1], np.zeros(5), \"^\", color=\"maroon\")\n",
        "plt.plot(x1s, x2s, \"--\", color=\"maroon\")\n",
        "plt.plot(x1s, x3s, \"b:\")\n",
        "plt.gca().get_yaxis().set_ticks([0, 0.25, 0.5, 0.75, 1])\n",
        "plt.xlabel(r\"$x_1$\", fontsize=15)\n",
        "plt.ylabel(r\"Similarity\", fontsize=15)\n",
        "\n",
        "plt.axis([-4.5, 4.5, -0.1, 1.1])\n",
        "\n",
        "plt.subplot(122)\n",
        "plt.grid(True, which='both')\n",
        "plt.axhline(y=0, color='k')\n",
        "plt.axvline(x=0, color='k')\n",
        "plt.plot(XK[:, 0][yk==0], XK[:, 1][yk==0], \"bs\")\n",
        "plt.plot(XK[:, 0][yk==1], XK[:, 1][yk==1], \"^\", color=\"maroon\")\n",
        "plt.xlabel(r\"$x_2$\", fontsize=15)\n",
        "plt.ylabel(r\"$x_3$, \", fontsize=15, rotation=0)\n",
        "\n",
        "plt.plot([-0.1, 1.1], [0.57, -0.1], \"--\", color=\"tab:gray\")\n",
        "plt.axis([-0.1, 1.1, -0.1, 1.1])\n",
        "    \n",
        "plt.subplots_adjust(right=1)\n",
        "plt.show()"
      ],
      "metadata": {
        "colab": {
          "base_uri": "https://localhost:8080/",
          "height": 285
        },
        "id": "kCDbNUJbp_P_",
        "outputId": "ffdcfc99-1a28-4e43-dd48-97e6e28a97e8"
      },
      "execution_count": 72,
      "outputs": [
        {
          "output_type": "display_data",
          "data": {
            "image/png": "[encoded data removed]",
            "text/plain": [
              "<Figure size 756x288 with 2 Axes>"
            ]
          },
          "metadata": {
            "needs_background": "light"
          }
        }
      ]
    },
    {
      "cell_type": "code",
      "source": [
        "x1_example = X1D[3, 0]\n",
        "for landmark in (-2, 1):\n",
        "    k = gaussian_rbf(np.array([[x1_example]]), np.array([[landmark]]), gamma)\n",
        "    print(\"Phi({}, {}) = {}\".format(x1_example, landmark, k))"
      ],
      "metadata": {
        "colab": {
          "base_uri": "https://localhost:8080/",
          "height": 0
        },
        "id": "llI3rG1-nk8R",
        "outputId": "7e54809e-4e92-4d7b-b832-4d367dc9afbc"
      },
      "execution_count": 18,
      "outputs": [
        {
          "output_type": "stream",
          "name": "stdout",
          "text": [
            "Phi(-1.0, -2) = [0.74081822]\n",
            "Phi(-1.0, 1) = [0.30119421]\n"
          ]
        }
      ]
    },
    {
      "cell_type": "markdown",
      "source": [
        "- The simplest approach to select landmarks is to create a landmark at the location of each and every instance in the dataset. \n",
        "- This creates many dimensions and thus increases the chances that the transformed training set will be linearly separable. \n",
        "- The downside is that a training set with $m$ instances and $n$ features gets transformed into a training set with $m$ instances and $m$ features (assuming we drop the original features). If our training set is very large, we end up with an equally large number of features."
      ],
      "metadata": {
        "id": "ndE41mb9uJ8U"
      }
    },
    {
      "cell_type": "markdown",
      "source": [
        "## Gaussian RBF Kernel"
      ],
      "metadata": {
        "id": "no3Y56ZroOq7"
      }
    },
    {
      "cell_type": "markdown",
      "source": [
        "- Just like the polynomial features method, the similarity features method can be useful with any Machine Learning algorithm, but it may be computationally expensive to compute all the additional features, especially on large training sets. \n",
        "- However, once again the kernel trick does its SVM magic: it makes it possible to obtain a similar result as if you had added many similarity features, without actually having to add them."
      ],
      "metadata": {
        "id": "mKirV3smPH7D"
      }
    },
    {
      "cell_type": "markdown",
      "source": [
        "- Let’s try the **Gaussian RBF kernel** using the SVC class:"
      ],
      "metadata": {
        "id": "uw0RvucAPXeM"
      }
    },
    {
      "cell_type": "code",
      "source": [
        "rbf_kernel_svm_clf = Pipeline([\n",
        " (\"scaler\", StandardScaler()),\n",
        " (\"svm_clf\", SVC(kernel=\"rbf\", gamma=5, C=0.001))\n",
        " ])\n",
        "rbf_kernel_svm_clf.fit(X, y)"
      ],
      "metadata": {
        "id": "yyJNmkv9oRmJ",
        "colab": {
          "base_uri": "https://localhost:8080/",
          "height": 0
        },
        "outputId": "1683c5b5-0339-4402-b8da-239b9fc313f0"
      },
      "execution_count": 19,
      "outputs": [
        {
          "output_type": "execute_result",
          "data": {
            "text/plain": [
              "Pipeline(steps=[('scaler', StandardScaler()),\n",
              "                ('svm_clf', SVC(C=0.001, gamma=5))])"
            ]
          },
          "metadata": {},
          "execution_count": 19
        }
      ]
    },
    {
      "cell_type": "markdown",
      "source": [
        "- Generating SVM Classifiers Using an RBF Kernel:\n"
      ],
      "metadata": {
        "id": "HgblOMJuPo1B"
      }
    },
    {
      "cell_type": "code",
      "source": [
        "from sklearn.svm import SVC\n",
        "\n",
        "gamma1, gamma2 = 0.1, 5\n",
        "C1, C2 = 0.001, 1000\n",
        "hyperparams = (gamma1, C1), (gamma1, C2), (gamma2, C1), (gamma2, C2)\n",
        "\n",
        "svm_clfs = []\n",
        "for gamma, C in hyperparams:\n",
        "    rbf_kernel_svm_clf = Pipeline([\n",
        "            (\"scaler\", StandardScaler()),\n",
        "            (\"svm_clf\", SVC(kernel=\"rbf\", gamma=gamma, C=C))\n",
        "        ])\n",
        "    rbf_kernel_svm_clf.fit(X, y)\n",
        "    svm_clfs.append(rbf_kernel_svm_clf)\n",
        "\n",
        "fig, axes = plt.subplots(nrows=2, ncols=2, figsize=(10.5, 7), sharex=True, sharey=True)\n",
        "\n",
        "for i, svm_clf in enumerate(svm_clfs):\n",
        "    plt.sca(axes[i // 2, i % 2])\n",
        "    plot_predictions(svm_clf, [-1.5, 2.45, -1, 1.5])\n",
        "    plot_dataset(X, y, [-1.5, 2.45, -1, 1.5])\n",
        "    gamma, C = hyperparams[i]\n",
        "    plt.title(r\"$\\gamma = {}, C = {}$\".format(gamma, C))\n",
        "    if i in (0, 1):\n",
        "        plt.xlabel(\"\")\n",
        "    if i in (1, 3):\n",
        "        plt.ylabel(\"\")\n",
        "\n",
        "plt.show()"
      ],
      "metadata": {
        "id": "AM2wkI1HPtZ8"
      },
      "execution_count": null,
      "outputs": []
    },
    {
      "cell_type": "markdown",
      "source": [
        "- The plots show models trained with different values of hyperparameters $\\gamma$ and $C$.\n",
        "\n",
        "<u>Comments:</u>\n",
        "- Increasing $\\gamma$ makes the bell-shape curve narrower, and as a result each instance’s range of influence is smaller: the decision boundary ends up\n",
        "being more irregular, wiggling around individual instances. \n",
        "- Conversely, a small $\\gamma$\n",
        "value makes the bell-shaped curve wider, so instances have a larger range of influence, and the decision boundary ends up smoother. \n",
        "- So $\\gamma$ acts like a regularization\n",
        "hyperparameter: if our model is overfitting, we should reduce it, and if it is underfitting, we should increase it (similar to the $C$ hyperparameter).\n"
      ],
      "metadata": {
        "id": "cyMFAVLbQRet"
      }
    },
    {
      "cell_type": "markdown",
      "source": [
        "---"
      ],
      "metadata": {
        "id": "7gP1J6HXSwUC"
      }
    },
    {
      "cell_type": "markdown",
      "source": [
        "# Exercise 1\n"
      ],
      "metadata": {
        "id": "vXWyAwKRSuJe"
      }
    },
    {
      "cell_type": "markdown",
      "source": [
        "***Train a LinearSVC on a linearly separable dataset. Then train an SVC and a SGDClassifier on the same dataset. See if you can get them to produce roughly\n",
        "the same model.***"
      ],
      "metadata": {
        "id": "Yab56hTvUE58"
      }
    },
    {
      "cell_type": "markdown",
      "source": [
        "- We'll use the Iris dataset: the Iris Setosa and Iris Versicolor classes are linearly separable."
      ],
      "metadata": {
        "id": "BunecLhEUTAc"
      }
    },
    {
      "cell_type": "code",
      "source": [
        "from sklearn import datasets\n",
        "\n",
        "iris = datasets.load_iris()\n",
        "X = iris[\"data\"][:, (2, 3)]  # petal length, petal width\n",
        "y = iris[\"target\"]\n",
        "\n",
        "setosa_or_versicolor = (y == 0) | (y == 1)\n",
        "X = X[setosa_or_versicolor]\n",
        "y = y[setosa_or_versicolor]"
      ],
      "metadata": {
        "id": "2KTBlaDMUPUu"
      },
      "execution_count": 37,
      "outputs": []
    },
    {
      "cell_type": "code",
      "source": [
        "# Visualizing the Dataset:\n",
        "plt.figure(figsize=(11, 4))\n",
        "plt.scatter(X[:, 0][y==1], X[:, 1][y==1],  marker=\"s\", color=\"b\", label=\"Iris Versicolor\") \n",
        "plt.scatter(X[:, 0][y==0], X[:, 1][y==0], marker=\"o\", color=\"tab:olive\", label=\"Iris Setosa\")\n",
        "plt.title(\"Iris Dataset\", fontsize=12)\n",
        "plt.xlabel(\"Petal Length\", fontsize=12)\n",
        "plt.ylabel(\"Petal Width\", fontsize=12)\n",
        "plt.legend()\n",
        "plt.axis([0, 5.5, 0, 2])\n",
        "plt.show()"
      ],
      "metadata": {
        "colab": {
          "base_uri": "https://localhost:8080/",
          "height": 298
        },
        "id": "b45XiJW3UYmH",
        "outputId": "2abf94ea-795b-4a20-d384-4f172f11f927"
      },
      "execution_count": 27,
      "outputs": [
        {
          "output_type": "display_data",
          "data": {
            "image/png": "[encoded data removed]",
            "text/plain": [
              "<Figure size 792x288 with 1 Axes>"
            ]
          },
          "metadata": {
            "needs_background": "light"
          }
        }
      ]
    },
    {
      "cell_type": "code",
      "source": [
        "# Training the Models:\n",
        "\n",
        "from sklearn.svm import SVC, LinearSVC\n",
        "from sklearn.linear_model import SGDClassifier\n",
        "from sklearn.preprocessing import StandardScaler\n",
        "\n",
        "C = 5\n",
        "alpha = 1 / (C * len(X))\n",
        "\n",
        "lin_clf = LinearSVC(loss=\"hinge\", C=C, random_state=42)\n",
        "svm_clf = SVC(kernel=\"linear\", C=C)\n",
        "sgd_clf = SGDClassifier(loss=\"hinge\", learning_rate=\"constant\", eta0=0.001, alpha=alpha,\n",
        "                        max_iter=1000, tol=1e-3, random_state=42)\n",
        "\n",
        "scaler = StandardScaler()\n",
        "X_scaled = scaler.fit_transform(X)\n",
        "\n",
        "lin_clf.fit(X_scaled, y)\n",
        "svm_clf.fit(X_scaled, y)\n",
        "sgd_clf.fit(X_scaled, y)\n",
        "\n",
        "print(\"LinearSVC:                   \", lin_clf.intercept_, lin_clf.coef_)\n",
        "print(\"SVC:                         \", svm_clf.intercept_, svm_clf.coef_)\n",
        "print(r\"SGDClassifier(alpha={:.5f}):\".format(sgd_clf.alpha), sgd_clf.intercept_, sgd_clf.coef_)"
      ],
      "metadata": {
        "colab": {
          "base_uri": "https://localhost:8080/"
        },
        "id": "OeTe1jZXXV8U",
        "outputId": "851d5b8d-6712-46fe-eac6-84346efbdc9d"
      },
      "execution_count": 28,
      "outputs": [
        {
          "output_type": "stream",
          "name": "stdout",
          "text": [
            "LinearSVC:                    [0.28475098] [[1.05364854 1.09903804]]\n",
            "SVC:                          [0.31896852] [[1.1203284  1.02625193]]\n",
            "SGDClassifier(alpha=0.00200): [0.117] [[0.77714169 0.72981762]]\n"
          ]
        }
      ]
    },
    {
      "cell_type": "code",
      "source": [
        "# Computing the slope and bias of each decision boundary:\n",
        "w1 = -lin_clf.coef_[0, 0]/lin_clf.coef_[0, 1]\n",
        "b1 = -lin_clf.intercept_[0]/lin_clf.coef_[0, 1]\n",
        "w2 = -svm_clf.coef_[0, 0]/svm_clf.coef_[0, 1]\n",
        "b2 = -svm_clf.intercept_[0]/svm_clf.coef_[0, 1]\n",
        "w3 = -sgd_clf.coef_[0, 0]/sgd_clf.coef_[0, 1]\n",
        "b3 = -sgd_clf.intercept_[0]/sgd_clf.coef_[0, 1]\n",
        "\n",
        "# Transforming the decision boundary lines back to the original scale:\n",
        "line1 = scaler.inverse_transform([[-10, -10 * w1 + b1], [10, 10 * w1 + b1]])\n",
        "line2 = scaler.inverse_transform([[-10, -10 * w2 + b2], [10, 10 * w2 + b2]])\n",
        "line3 = scaler.inverse_transform([[-10, -10 * w3 + b3], [10, 10 * w3 + b3]])\n",
        "\n",
        "# Ploting all three decision boundaries:\n",
        "plt.figure(figsize=(11, 4))\n",
        "plt.plot(line1[:, 0], line1[:, 1], color=\"tab:gray\", linestyle=\"solid\", linewidth=3, label=\"LinearSVC\")\n",
        "plt.plot(line2[:, 0], line2[:, 1], color=\"tab:brown\", linestyle=\"dashed\", linewidth=3, label=\"SVC\")\n",
        "plt.plot(line3[:, 0], line3[:, 1], color=\"tab:blue\", linestyle=\"dotted\", linewidth=3, label=\"SGDClassifier\")\n",
        "plt.scatter(X[:, 0][y==1], X[:, 1][y==1],  marker=\"s\", color=\"b\") # label=\"Iris versicolor\"\n",
        "plt.scatter(X[:, 0][y==0], X[:, 1][y==0], marker=\"o\", color=\"tab:olive\") # label=\"Iris setosa\"\n",
        "plt.xlabel(\"Petal length\", fontsize=12)\n",
        "plt.ylabel(\"Petal width\", fontsize=12)\n",
        "plt.legend(loc=\"upper center\", fontsize=12)\n",
        "plt.axis([0, 5.5, 0, 2])\n",
        "\n",
        "plt.show()\n"
      ],
      "metadata": {
        "colab": {
          "base_uri": "https://localhost:8080/",
          "height": 286
        },
        "id": "-1JwVTqiZdUt",
        "outputId": "833b307d-f190-45e2-8a06-7415f240de0d"
      },
      "execution_count": 30,
      "outputs": [
        {
          "output_type": "display_data",
          "data": {
            "image/png": "[encoded data removed]",
            "text/plain": [
              "<Figure size 792x288 with 1 Axes>"
            ]
          },
          "metadata": {
            "needs_background": "light"
          }
        }
      ]
    },
    {
      "cell_type": "markdown",
      "source": [
        "# Exercise 2"
      ],
      "metadata": {
        "id": "AxOZqEpUUBcr"
      }
    },
    {
      "cell_type": "markdown",
      "source": [
        "***Train an SVM classifier on the MNIST dataset. Since SVM classifiers are binary classifiers, you will need to use one-versus-all to classify all 10 digits. What accuracy can you reach?***"
      ],
      "metadata": {
        "id": "Hk5wc1zSSv1H"
      }
    },
    {
      "cell_type": "code",
      "source": [
        "# Loading Dataset and Splitting:\n",
        "from sklearn.datasets import fetch_openml\n",
        "mnist = fetch_openml('mnist_784', version=1, cache=True, as_frame=False)\n",
        "\n",
        "X = mnist[\"data\"]\n",
        "y = mnist[\"target\"].astype(np.uint8)\n",
        "\n",
        "X_train = X[:60000]\n",
        "y_train = y[:60000]\n",
        "X_test = X[60000:]\n",
        "y_test = y[60000:]"
      ],
      "metadata": {
        "id": "Rrfj76LeSvTH"
      },
      "execution_count": 115,
      "outputs": []
    },
    {
      "cell_type": "code",
      "source": [
        "# Simple Linear SVM Classifier:\n",
        "# Automatically uses the One-vs-All strategy:\n",
        "\n",
        "lin_clf = LinearSVC(random_state=42)\n",
        "lin_clf.fit(X_train, y_train)"
      ],
      "metadata": {
        "colab": {
          "base_uri": "https://localhost:8080/"
        },
        "id": "Z0KwTEMUdObn",
        "outputId": "c43a3f5b-f060-401f-edbe-1478a7b72286"
      },
      "execution_count": 116,
      "outputs": [
        {
          "output_type": "stream",
          "name": "stderr",
          "text": [
            "/usr/local/lib/python3.7/dist-packages/sklearn/svm/_base.py:1208: ConvergenceWarning: Liblinear failed to converge, increase the number of iterations.\n",
            "  ConvergenceWarning,\n"
          ]
        },
        {
          "output_type": "execute_result",
          "data": {
            "text/plain": [
              "LinearSVC(random_state=42)"
            ]
          },
          "metadata": {},
          "execution_count": 116
        }
      ]
    },
    {
      "cell_type": "code",
      "source": [
        "# Predictions (without scaling of data):\n",
        "from sklearn.metrics import accuracy_score\n",
        "\n",
        "y_pred = lin_clf.predict(X_train)\n",
        "accuracy_score(y_train, y_pred)"
      ],
      "metadata": {
        "colab": {
          "base_uri": "https://localhost:8080/"
        },
        "id": "COfArv_dgMTZ",
        "outputId": "fe06695c-08c2-4b1a-dafe-429c2680c02e"
      },
      "execution_count": 117,
      "outputs": [
        {
          "output_type": "execute_result",
          "data": {
            "text/plain": [
              "0.8348666666666666"
            ]
          },
          "metadata": {},
          "execution_count": 117
        }
      ]
    },
    {
      "cell_type": "code",
      "source": [
        "# Predictions (with scaling of data):\n",
        "scaler = StandardScaler()\n",
        "X_train_scaled = scaler.fit_transform(X_train.astype(np.float32))\n",
        "X_test_scaled = scaler.transform(X_test.astype(np.float32))\n",
        "\n",
        "lin_clf = LinearSVC(random_state=42)\n",
        "lin_clf.fit(X_train_scaled, y_train)\n",
        "\n",
        "y_pred = lin_clf.predict(X_train_scaled)\n",
        "accuracy_score(y_train, y_pred)"
      ],
      "metadata": {
        "colab": {
          "base_uri": "https://localhost:8080/"
        },
        "id": "MyCXmKDugdSV",
        "outputId": "fe45c790-57a0-4e49-994d-bbae9c28f04c"
      },
      "execution_count": 118,
      "outputs": [
        {
          "output_type": "stream",
          "name": "stderr",
          "text": [
            "/usr/local/lib/python3.7/dist-packages/sklearn/svm/_base.py:1208: ConvergenceWarning: Liblinear failed to converge, increase the number of iterations.\n",
            "  ConvergenceWarning,\n"
          ]
        },
        {
          "output_type": "execute_result",
          "data": {
            "text/plain": [
              "0.9214"
            ]
          },
          "metadata": {},
          "execution_count": 118
        }
      ]
    },
    {
      "cell_type": "code",
      "source": [
        "# SVM Model: SVC with RBF Kernel (Default):\n",
        "svm_clf = SVC(gamma=\"scale\")\n",
        "svm_clf.fit(X_train_scaled[:10000], y_train[:10000])"
      ],
      "metadata": {
        "colab": {
          "base_uri": "https://localhost:8080/"
        },
        "id": "HVWXsel2gna6",
        "outputId": "19561bd0-4d73-410a-842a-50705218baf3"
      },
      "execution_count": 119,
      "outputs": [
        {
          "output_type": "execute_result",
          "data": {
            "text/plain": [
              "SVC()"
            ]
          },
          "metadata": {},
          "execution_count": 119
        }
      ]
    },
    {
      "cell_type": "code",
      "source": [
        "# Predictions:\n",
        "y_pred = svm_clf.predict(X_train_scaled)\n",
        "accuracy_score(y_train, y_pred)"
      ],
      "metadata": {
        "colab": {
          "base_uri": "https://localhost:8080/"
        },
        "id": "uFNyL_FehXtY",
        "outputId": "654e1895-c05d-4232-b678-52a2accdaaef"
      },
      "execution_count": 120,
      "outputs": [
        {
          "output_type": "execute_result",
          "data": {
            "text/plain": [
              "0.9455333333333333"
            ]
          },
          "metadata": {},
          "execution_count": 120
        }
      ]
    },
    {
      "cell_type": "code",
      "source": [
        ""
      ],
      "metadata": {
        "id": "raT3eiOohcqX"
      },
      "execution_count": null,
      "outputs": []
    }
  ]
}